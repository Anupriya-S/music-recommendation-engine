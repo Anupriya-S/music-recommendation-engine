{
 "cells": [
  {
   "cell_type": "code",
   "execution_count": 1,
   "metadata": {},
   "outputs": [],
   "source": [
    "# Importing required libraries.\n",
    "import pandas as pd\n",
    "from sklearn.metrics.pairwise import cosine_similarity"
   ]
  },
  {
   "cell_type": "code",
   "execution_count": 2,
   "metadata": {},
   "outputs": [],
   "source": [
    "# Reading the CSV file using Pandas.\n",
    "df_og = pd.read_csv(\"holly_bolly_10733_final.csv\")"
   ]
  },
  {
   "cell_type": "code",
   "execution_count": 39,
   "metadata": {},
   "outputs": [
    {
     "data": {
      "text/html": [
       "<div>\n",
       "<style scoped>\n",
       "    .dataframe tbody tr th:only-of-type {\n",
       "        vertical-align: middle;\n",
       "    }\n",
       "\n",
       "    .dataframe tbody tr th {\n",
       "        vertical-align: top;\n",
       "    }\n",
       "\n",
       "    .dataframe thead th {\n",
       "        text-align: right;\n",
       "    }\n",
       "</style>\n",
       "<table border=\"1\" class=\"dataframe\">\n",
       "  <thead>\n",
       "    <tr style=\"text-align: right;\">\n",
       "      <th></th>\n",
       "      <th>name</th>\n",
       "      <th>artist</th>\n",
       "      <th>danceability</th>\n",
       "      <th>key</th>\n",
       "      <th>mode</th>\n",
       "      <th>instrumentalness</th>\n",
       "      <th>duration</th>\n",
       "      <th>energy</th>\n",
       "      <th>loudness</th>\n",
       "      <th>speechiness</th>\n",
       "      <th>acousticness</th>\n",
       "      <th>tempo</th>\n",
       "      <th>liveness</th>\n",
       "      <th>valence</th>\n",
       "      <th>popularity</th>\n",
       "      <th>hollywood</th>\n",
       "    </tr>\n",
       "  </thead>\n",
       "  <tbody>\n",
       "    <tr>\n",
       "      <th>0</th>\n",
       "      <td>ishq kaminaa</td>\n",
       "      <td>djjiten</td>\n",
       "      <td>0.782</td>\n",
       "      <td>5</td>\n",
       "      <td>0</td>\n",
       "      <td>0.000013</td>\n",
       "      <td>1.907673</td>\n",
       "      <td>0.972</td>\n",
       "      <td>-7.542</td>\n",
       "      <td>0.1480</td>\n",
       "      <td>0.02550</td>\n",
       "      <td>0.608960</td>\n",
       "      <td>0.3690</td>\n",
       "      <td>0.557</td>\n",
       "      <td>0.000000</td>\n",
       "      <td>0</td>\n",
       "    </tr>\n",
       "    <tr>\n",
       "      <th>1</th>\n",
       "      <td>bhool ja</td>\n",
       "      <td>shaan</td>\n",
       "      <td>0.696</td>\n",
       "      <td>0</td>\n",
       "      <td>0</td>\n",
       "      <td>0.000185</td>\n",
       "      <td>1.389656</td>\n",
       "      <td>0.888</td>\n",
       "      <td>-2.285</td>\n",
       "      <td>0.0336</td>\n",
       "      <td>0.05920</td>\n",
       "      <td>0.549908</td>\n",
       "      <td>0.1310</td>\n",
       "      <td>0.676</td>\n",
       "      <td>0.180905</td>\n",
       "      <td>0</td>\n",
       "    </tr>\n",
       "    <tr>\n",
       "      <th>2</th>\n",
       "      <td>tanha dil</td>\n",
       "      <td>shaan</td>\n",
       "      <td>0.621</td>\n",
       "      <td>7</td>\n",
       "      <td>0</td>\n",
       "      <td>0.000000</td>\n",
       "      <td>1.761857</td>\n",
       "      <td>0.704</td>\n",
       "      <td>-5.293</td>\n",
       "      <td>0.0236</td>\n",
       "      <td>0.10100</td>\n",
       "      <td>0.454296</td>\n",
       "      <td>0.1850</td>\n",
       "      <td>0.366</td>\n",
       "      <td>0.221106</td>\n",
       "      <td>0</td>\n",
       "    </tr>\n",
       "    <tr>\n",
       "      <th>3</th>\n",
       "      <td>sexy mama</td>\n",
       "      <td>bombayrockers</td>\n",
       "      <td>0.830</td>\n",
       "      <td>9</td>\n",
       "      <td>0</td>\n",
       "      <td>0.000001</td>\n",
       "      <td>1.402920</td>\n",
       "      <td>0.770</td>\n",
       "      <td>-4.135</td>\n",
       "      <td>0.1120</td>\n",
       "      <td>0.48300</td>\n",
       "      <td>0.454514</td>\n",
       "      <td>0.1270</td>\n",
       "      <td>0.927</td>\n",
       "      <td>0.135678</td>\n",
       "      <td>0</td>\n",
       "    </tr>\n",
       "    <tr>\n",
       "      <th>4</th>\n",
       "      <td>ari ari part 1</td>\n",
       "      <td>bombayrockers</td>\n",
       "      <td>0.758</td>\n",
       "      <td>7</td>\n",
       "      <td>1</td>\n",
       "      <td>0.000154</td>\n",
       "      <td>0.458445</td>\n",
       "      <td>0.918</td>\n",
       "      <td>-2.487</td>\n",
       "      <td>0.1080</td>\n",
       "      <td>0.00085</td>\n",
       "      <td>0.445791</td>\n",
       "      <td>0.0619</td>\n",
       "      <td>0.721</td>\n",
       "      <td>0.165829</td>\n",
       "      <td>0</td>\n",
       "    </tr>\n",
       "  </tbody>\n",
       "</table>\n",
       "</div>"
      ],
      "text/plain": [
       "             name         artist  danceability  key  mode  instrumentalness  \\\n",
       "0    ishq kaminaa        djjiten         0.782    5     0          0.000013   \n",
       "1        bhool ja          shaan         0.696    0     0          0.000185   \n",
       "2       tanha dil          shaan         0.621    7     0          0.000000   \n",
       "3       sexy mama  bombayrockers         0.830    9     0          0.000001   \n",
       "4  ari ari part 1  bombayrockers         0.758    7     1          0.000154   \n",
       "\n",
       "   duration  energy  loudness  speechiness  acousticness     tempo  liveness  \\\n",
       "0  1.907673   0.972    -7.542       0.1480       0.02550  0.608960    0.3690   \n",
       "1  1.389656   0.888    -2.285       0.0336       0.05920  0.549908    0.1310   \n",
       "2  1.761857   0.704    -5.293       0.0236       0.10100  0.454296    0.1850   \n",
       "3  1.402920   0.770    -4.135       0.1120       0.48300  0.454514    0.1270   \n",
       "4  0.458445   0.918    -2.487       0.1080       0.00085  0.445791    0.0619   \n",
       "\n",
       "   valence  popularity  hollywood  \n",
       "0    0.557    0.000000          0  \n",
       "1    0.676    0.180905          0  \n",
       "2    0.366    0.221106          0  \n",
       "3    0.927    0.135678          0  \n",
       "4    0.721    0.165829          0  "
      ]
     },
     "execution_count": 39,
     "metadata": {},
     "output_type": "execute_result"
    }
   ],
   "source": [
    "# Displaying the first 5 records to view the columns.\n",
    "df_og.head()"
   ]
  },
  {
   "cell_type": "code",
   "execution_count": 4,
   "metadata": {},
   "outputs": [],
   "source": [
    "# Dropping text values (we'll be using them in another approach).\n",
    "df = df_og.drop([\"name\",\"artist\"],axis=1)"
   ]
  },
  {
   "cell_type": "code",
   "execution_count": 5,
   "metadata": {},
   "outputs": [],
   "source": [
    "# Converting the dataframe into numpy format for further processing.\n",
    "df_numpy = df.to_numpy()"
   ]
  },
  {
   "cell_type": "code",
   "execution_count": 6,
   "metadata": {},
   "outputs": [
    {
     "data": {
      "text/plain": [
       "(10733, 14)"
      ]
     },
     "execution_count": 6,
     "metadata": {},
     "output_type": "execute_result"
    }
   ],
   "source": [
    "df_numpy.shape"
   ]
  },
  {
   "cell_type": "code",
   "execution_count": 7,
   "metadata": {},
   "outputs": [],
   "source": [
    "# Finding the cosine distance of every record with every other record in the dataset.\n",
    "cosine_sim = cosine_similarity(df_numpy,df_numpy)"
   ]
  },
  {
   "cell_type": "code",
   "execution_count": 8,
   "metadata": {},
   "outputs": [
    {
     "data": {
      "text/plain": [
       "(10733, 10733)"
      ]
     },
     "execution_count": 8,
     "metadata": {},
     "output_type": "execute_result"
    }
   ],
   "source": [
    "# Printing the shape of the result\n",
    "cosine_sim.shape"
   ]
  },
  {
   "cell_type": "code",
   "execution_count": 9,
   "metadata": {},
   "outputs": [
    {
     "data": {
      "text/plain": [
       "name                tanha dil\n",
       "artist                  shaan\n",
       "danceability            0.621\n",
       "key                         7\n",
       "mode                        0\n",
       "instrumentalness            0\n",
       "duration              1.76186\n",
       "energy                  0.704\n",
       "loudness               -5.293\n",
       "speechiness            0.0236\n",
       "acousticness            0.101\n",
       "tempo                0.454296\n",
       "liveness                0.185\n",
       "valence                 0.366\n",
       "popularity           0.221106\n",
       "hollywood                   0\n",
       "Name: 2, dtype: object"
      ]
     },
     "execution_count": 9,
     "metadata": {},
     "output_type": "execute_result"
    }
   ],
   "source": [
    "# Viewing the third record from the original dataset. \n",
    "# This will be used as an input for getting recommendations.\n",
    "df_og.iloc[2]"
   ]
  },
  {
   "cell_type": "code",
   "execution_count": 10,
   "metadata": {},
   "outputs": [],
   "source": [
    "# Sorting the cosine distances of the input song with other songs in the ascending order. \n",
    "score_series = pd.Series(cosine_sim[2]).sort_values(ascending=False)"
   ]
  },
  {
   "cell_type": "code",
   "execution_count": 11,
   "metadata": {},
   "outputs": [],
   "source": [
    "# Selecting indices of 5 songs which are closest to the input song.\n",
    "top_5_indexes = list(score_series.iloc[1:6].index)"
   ]
  },
  {
   "cell_type": "code",
   "execution_count": 12,
   "metadata": {},
   "outputs": [
    {
     "data": {
      "text/plain": [
       "[113, 838, 277, 899, 600]"
      ]
     },
     "execution_count": 12,
     "metadata": {},
     "output_type": "execute_result"
    }
   ],
   "source": [
    "top_5_indexes"
   ]
  },
  {
   "cell_type": "code",
   "execution_count": 13,
   "metadata": {},
   "outputs": [],
   "source": [
    "# Deriving the names of the recommended songs from the original dataset.\n",
    "recommended_songs = []\n",
    "for i in top_5_indexes:\n",
    "        recommended_songs.append((list(df_og.name)[i],list(df_og.artist)[i]))"
   ]
  },
  {
   "cell_type": "code",
   "execution_count": 14,
   "metadata": {},
   "outputs": [
    {
     "data": {
      "text/plain": [
       "[('mere dil mein aaj kya hai  the amorous lover mix', 'instantkarma'),\n",
       " ('tu junooniyat climax song', 'shreysinghal'),\n",
       " ('bas ek pal  remix', 'kk'),\n",
       " ('chori chori takna', 'darkmc'),\n",
       " ('farak', 'divine')]"
      ]
     },
     "execution_count": 14,
     "metadata": {},
     "output_type": "execute_result"
    }
   ],
   "source": [
    "# Printing the recommended songs.\n",
    "recommended_songs"
   ]
  },
  {
   "cell_type": "code",
   "execution_count": 26,
   "metadata": {},
   "outputs": [],
   "source": [
    "indices = pd.Series(df_og['name'])"
   ]
  },
  {
   "cell_type": "code",
   "execution_count": 58,
   "metadata": {},
   "outputs": [],
   "source": [
    "def recommendations(title, cosine_sim = cosine_sim):\n",
    "    \n",
    "    recommended_movies = []\n",
    "    \n",
    "    # gettin the index of the movie that matches the title\n",
    "    idx = indices[indices == title].index[0]\n",
    "\n",
    "    # creating a Series with the similarity scores in descending order\n",
    "    score_series = pd.Series(cosine_sim[idx]).sort_values(ascending = False)\n",
    "\n",
    "    # getting the indexes of the 5 most similar movies\n",
    "    top_5_indexes = list(score_series.iloc[1:6].index)\n",
    "    \n",
    "    # populating the list with the titles of the best 5 matching movies\n",
    "    for i in top_5_indexes:\n",
    "        recommended_movies.append(((df_og.name)[i],(df_og.artist)[i]))\n",
    "        \n",
    "    return recommended_movies"
   ]
  },
  {
   "cell_type": "code",
   "execution_count": 61,
   "metadata": {},
   "outputs": [],
   "source": [
    "recommended_songs = recommendations(\"numb\")"
   ]
  },
  {
   "cell_type": "code",
   "execution_count": 62,
   "metadata": {},
   "outputs": [
    {
     "name": "stdout",
     "output_type": "stream",
     "text": [
      "1: Sleeping Awake  2006 Remaster by Pod\n",
      "2: A Place For My Head by Linkinpark\n",
      "3: Dont Be Shy by Thelibertines\n",
      "4: Papercut by Linkinpark\n",
      "5: Disposable Teens by Marilynmanson\n"
     ]
    }
   ],
   "source": [
    "# Printing the recommendations\n",
    "for i,song in enumerate(recommended_songs):\n",
    "    print(\"{}: {} by {}\".format(i+1,song[0].title(),song[1].title()))"
   ]
  }
 ],
 "metadata": {
  "kernelspec": {
   "display_name": "Python 3",
   "language": "python",
   "name": "python3"
  },
  "language_info": {
   "codemirror_mode": {
    "name": "ipython",
    "version": 3
   },
   "file_extension": ".py",
   "mimetype": "text/x-python",
   "name": "python",
   "nbconvert_exporter": "python",
   "pygments_lexer": "ipython3",
   "version": "3.8.3"
  }
 },
 "nbformat": 4,
 "nbformat_minor": 4
}
